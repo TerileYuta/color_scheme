{
  "cells": [
    {
      "cell_type": "code",
      "execution_count": 52,
      "metadata": {
        "id": "ixRg8n2qnobU"
      },
      "outputs": [],
      "source": [
        "#インポート\n",
        "\n",
        "import pickle\n",
        "from google.colab import files\n",
        "from PIL import Image\n",
        "import numpy as np\n",
        "from scipy import signal\n",
        "from sklearn.cluster import KMeans\n",
        "import torch\n",
        "import torch.nn as nn"
      ]
    },
    {
      "cell_type": "code",
      "execution_count": 53,
      "metadata": {
        "colab": {
          "base_uri": "https://localhost:8080/"
        },
        "collapsed": true,
        "id": "B8A-6vR4n41n",
        "outputId": "0a2f57f2-323a-49ff-8baf-4bc48f30518f"
      },
      "outputs": [
        {
          "data": {
            "text/plain": [
              "Generator(\n",
              "  (fc1): Linear(in_features=3, out_features=1024, bias=True)\n",
              "  (fc2): Linear(in_features=1024, out_features=2048, bias=True)\n",
              "  (fc3): Linear(in_features=2048, out_features=3, bias=True)\n",
              "  (activation): ReLU()\n",
              ")"
            ]
          },
          "execution_count": 53,
          "metadata": {},
          "output_type": "execute_result"
        }
      ],
      "source": [
        "#学習済みモデルの読み込み\n",
        "\n",
        "#配色最適診断モデル\n",
        "with open('/content/drive/MyDrive/アルバイト/PreApp/SVM_model.sav', mode='rb') as f:\n",
        "    svm_model = pickle.load(f)\n",
        "\n",
        "#上半身色生成モデル\n",
        "class Generator(nn.Module):\n",
        "    def __init__(self):\n",
        "        super(Generator, self).__init__()\n",
        "\n",
        "        self.fc1 = nn.Linear(3, 1024)\n",
        "        self.fc2 = nn.Linear(1024, 2048)\n",
        "        self.fc3 = nn.Linear(2048, 3)\n",
        "        self.activation = nn.ReLU()\n",
        "\n",
        "    def forward(self, x):\n",
        "        x = self.activation(self.fc1(x))\n",
        "        x = self.activation(self.fc2(x))\n",
        "        x = self.fc3(x)\n",
        "\n",
        "        return nn.Tanh()(x)\n",
        "\n",
        "device = torch.device('cuda' if torch.cuda.is_available() else 'cpu')\n",
        "generator_model = Generator()\n",
        "generator_model.load_state_dict(torch.load('/content/drive/MyDrive/アルバイト/PreApp/generator_model.pth'))\n",
        "generator_model.eval()"
      ]
    },
    {
      "cell_type": "code",
      "execution_count": 58,
      "metadata": {
        "colab": {
          "base_uri": "https://localhost:8080/",
          "height": 317
        },
        "collapsed": true,
        "id": "zJMsPekTSwrn",
        "outputId": "e2bc1751-c682-4175-9c70-6358bb4360e1"
      },
      "outputs": [
        {
          "data": {
            "image/png": "[encoded data removed]",
            "text/plain": [
              "<PIL.Image.Image image mode=RGB size=150x300>"
            ]
          },
          "metadata": {},
          "output_type": "display_data"
        }
      ],
      "source": [
        "##上半身色生成のテスト\n",
        "\n",
        "#上半身色のRGBを入力\n",
        "lower_color = [255, 0, 0]\n",
        "\n",
        "predict = generator_model(torch.tensor((np.array(lower_color) / 255),  dtype=torch.float32).to(device))\n",
        "predict_rgb = np.array(predict.tolist()) * 255\n",
        "\n",
        "color_img = np.zeros((300, 150, 3))\n",
        "color_img[0:300, 0:150] = predict_rgb\n",
        "color_img[150:300, 0:150] = lower_color\n",
        "\n",
        "\n",
        "display(Image.fromarray(color_img.astype(np.uint8)))"
      ]
    },
    {
      "cell_type": "code",
      "execution_count": 38,
      "metadata": {
        "colab": {
          "base_uri": "https://localhost:8080/",
          "height": 72
        },
        "id": "zpFJrn-koBZw",
        "outputId": "fd6b8bd0-c150-45ae-94d2-18b8a57766e5"
      },
      "outputs": [
        {
          "data": {
            "text/html": [
              "\n",
              "     <input type=\"file\" id=\"files-cf0aa28b-b8fb-4834-9ab0-66015cf1b105\" name=\"files[]\" multiple disabled\n",
              "        style=\"border:none\" />\n",
              "     <output id=\"result-cf0aa28b-b8fb-4834-9ab0-66015cf1b105\">\n",
              "      Upload widget is only available when the cell has been executed in the\n",
              "      current browser session. Please rerun this cell to enable.\n",
              "      </output>\n",
              "      <script>// Copyright 2017 Google LLC\n",
              "//\n",
              "// Licensed under the Apache License, Version 2.0 (the \"License\");\n",
              "// you may not use this file except in compliance with the License.\n",
              "// You may obtain a copy of the License at\n",
              "//\n",
              "//      http://www.apache.org/licenses/LICENSE-2.0\n",
              "//\n",
              "// Unless required by applicable law or agreed to in writing, software\n",
              "// distributed under the License is distributed on an \"AS IS\" BASIS,\n",
              "// WITHOUT WARRANTIES OR CONDITIONS OF ANY KIND, either express or implied.\n",
              "// See the License for the specific language governing permissions and\n",
              "// limitations under the License.\n",
              "\n",
              "/**\n",
              " * @fileoverview Helpers for google.colab Python module.\n",
              " */\n",
              "(function(scope) {\n",
              "function span(text, styleAttributes = {}) {\n",
              "  const element = document.createElement('span');\n",
              "  element.textContent = text;\n",
              "  for (const key of Object.keys(styleAttributes)) {\n",
              "    element.style[key] = styleAttributes[key];\n",
              "  }\n",
              "  return element;\n",
              "}\n",
              "\n",
              "// Max number of bytes which will be uploaded at a time.\n",
              "const MAX_PAYLOAD_SIZE = 100 * 1024;\n",
              "\n",
              "function _uploadFiles(inputId, outputId) {\n",
              "  const steps = uploadFilesStep(inputId, outputId);\n",
              "  const outputElement = document.getElementById(outputId);\n",
              "  // Cache steps on the outputElement to make it available for the next call\n",
              "  // to uploadFilesContinue from Python.\n",
              "  outputElement.steps = steps;\n",
              "\n",
              "  return _uploadFilesContinue(outputId);\n",
              "}\n",
              "\n",
              "// This is roughly an async generator (not supported in the browser yet),\n",
              "// where there are multiple asynchronous steps and the Python side is going\n",
              "// to poll for completion of each step.\n",
              "// This uses a Promise to block the python side on completion of each step,\n",
              "// then passes the result of the previous step as the input to the next step.\n",
              "function _uploadFilesContinue(outputId) {\n",
              "  const outputElement = document.getElementById(outputId);\n",
              "  const steps = outputElement.steps;\n",
              "\n",
              "  const next = steps.next(outputElement.lastPromiseValue);\n",
              "  return Promise.resolve(next.value.promise).then((value) => {\n",
              "    // Cache the last promise value to make it available to the next\n",
              "    // step of the generator.\n",
              "    outputElement.lastPromiseValue = value;\n",
              "    return next.value.response;\n",
              "  });\n",
              "}\n",
              "\n",
              "/**\n",
              " * Generator function which is called between each async step of the upload\n",
              " * process.\n",
              " * @param {string} inputId Element ID of the input file picker element.\n",
              " * @param {string} outputId Element ID of the output display.\n",
              " * @return {!Iterable<!Object>} Iterable of next steps.\n",
              " */\n",
              "function* uploadFilesStep(inputId, outputId) {\n",
              "  const inputElement = document.getElementById(inputId);\n",
              "  inputElement.disabled = false;\n",
              "\n",
              "  const outputElement = document.getElementById(outputId);\n",
              "  outputElement.innerHTML = '';\n",
              "\n",
              "  const pickedPromise = new Promise((resolve) => {\n",
              "    inputElement.addEventListener('change', (e) => {\n",
              "      resolve(e.target.files);\n",
              "    });\n",
              "  });\n",
              "\n",
              "  const cancel = document.createElement('button');\n",
              "  inputElement.parentElement.appendChild(cancel);\n",
              "  cancel.textContent = 'Cancel upload';\n",
              "  const cancelPromise = new Promise((resolve) => {\n",
              "    cancel.onclick = () => {\n",
              "      resolve(null);\n",
              "    };\n",
              "  });\n",
              "\n",
              "  // Wait for the user to pick the files.\n",
              "  const files = yield {\n",
              "    promise: Promise.race([pickedPromise, cancelPromise]),\n",
              "    response: {\n",
              "      action: 'starting',\n",
              "    }\n",
              "  };\n",
              "\n",
              "  cancel.remove();\n",
              "\n",
              "  // Disable the input element since further picks are not allowed.\n",
              "  inputElement.disabled = true;\n",
              "\n",
              "  if (!files) {\n",
              "    return {\n",
              "      response: {\n",
              "        action: 'complete',\n",
              "      }\n",
              "    };\n",
              "  }\n",
              "\n",
              "  for (const file of files) {\n",
              "    const li = document.createElement('li');\n",
              "    li.append(span(file.name, {fontWeight: 'bold'}));\n",
              "    li.append(span(\n",
              "        `(${file.type || 'n/a'}) - ${file.size} bytes, ` +\n",
              "        `last modified: ${\n",
              "            file.lastModifiedDate ? file.lastModifiedDate.toLocaleDateString() :\n",
              "                                    'n/a'} - `));\n",
              "    const percent = span('0% done');\n",
              "    li.appendChild(percent);\n",
              "\n",
              "    outputElement.appendChild(li);\n",
              "\n",
              "    const fileDataPromise = new Promise((resolve) => {\n",
              "      const reader = new FileReader();\n",
              "      reader.onload = (e) => {\n",
              "        resolve(e.target.result);\n",
              "      };\n",
              "      reader.readAsArrayBuffer(file);\n",
              "    });\n",
              "    // Wait for the data to be ready.\n",
              "    let fileData = yield {\n",
              "      promise: fileDataPromise,\n",
              "      response: {\n",
              "        action: 'continue',\n",
              "      }\n",
              "    };\n",
              "\n",
              "    // Use a chunked sending to avoid message size limits. See b/62115660.\n",
              "    let position = 0;\n",
              "    do {\n",
              "      const length = Math.min(fileData.byteLength - position, MAX_PAYLOAD_SIZE);\n",
              "      const chunk = new Uint8Array(fileData, position, length);\n",
              "      position += length;\n",
              "\n",
              "      const base64 = btoa(String.fromCharCode.apply(null, chunk));\n",
              "      yield {\n",
              "        response: {\n",
              "          action: 'append',\n",
              "          file: file.name,\n",
              "          data: base64,\n",
              "        },\n",
              "      };\n",
              "\n",
              "      let percentDone = fileData.byteLength === 0 ?\n",
              "          100 :\n",
              "          Math.round((position / fileData.byteLength) * 100);\n",
              "      percent.textContent = `${percentDone}% done`;\n",
              "\n",
              "    } while (position < fileData.byteLength);\n",
              "  }\n",
              "\n",
              "  // All done.\n",
              "  yield {\n",
              "    response: {\n",
              "      action: 'complete',\n",
              "    }\n",
              "  };\n",
              "}\n",
              "\n",
              "scope.google = scope.google || {};\n",
              "scope.google.colab = scope.google.colab || {};\n",
              "scope.google.colab._files = {\n",
              "  _uploadFiles,\n",
              "  _uploadFilesContinue,\n",
              "};\n",
              "})(self);\n",
              "</script> "
            ],
            "text/plain": [
              "<IPython.core.display.HTML object>"
            ]
          },
          "metadata": {},
          "output_type": "display_data"
        },
        {
          "name": "stdout",
          "output_type": "stream",
          "text": [
            "Saving test5.jpg to test5.jpg\n"
          ]
        }
      ],
      "source": [
        "#画像ファイルのアップロード\n",
        "\n",
        "uploaded = files.upload()\n",
        "file_name = next(iter(uploaded))"
      ]
    },
    {
      "cell_type": "code",
      "execution_count": 39,
      "metadata": {
        "id": "vSQCeJGx1pvg"
      },
      "outputs": [],
      "source": [
        "#前処理\n",
        "\n",
        "#画像の読み込み\n",
        "img_color = Image.open(\"/content/\" + file_name)\n",
        "img_gray = img_color.convert(\"L\") #グレースケール変換\n",
        "\n",
        "#numpy配列に変換\n",
        "img_color_np = np.asarray(img_color, dtype = \"float32\")\n",
        "img_gray_np = np.asarray(img_gray, dtype = \"float32\")\n",
        "\n",
        "#サイズを取得\n",
        "img_h, img_w = img_gray_np.shape"
      ]
    },
    {
      "cell_type": "code",
      "execution_count": 40,
      "metadata": {
        "id": "dV_c-MUl3CCU"
      },
      "outputs": [],
      "source": [
        "#垂直方向の一次微分フィルタ\n",
        "\n",
        "#カーネルを作成\n",
        "kernel_v = np.zeros((3,3))\n",
        "kernel_v[1,1] = -1\n",
        "kernel_v[2,1] = 1\n",
        "\n",
        "#畳み込み演算\n",
        "img_v = signal.convolve2d(img_gray_np, kernel_v, mode=\"same\")\n",
        "img_v = np.clip(img_v, 0, 255).astype(\"uint8\")"
      ]
    },
    {
      "cell_type": "code",
      "execution_count": 59,
      "metadata": {
        "id": "R7oBDfzm3PHy"
      },
      "outputs": [],
      "source": [
        "#上半身と下半身の境目を検出\n",
        "\n",
        "ave_color = (np.average(img_v) + np.max(img_v)) / 2\n",
        "\n",
        "line = np.where(img_v > ave_color)[0]\n",
        "\n",
        "k = img_h // 100\n",
        "count_list = []\n",
        "\n",
        "for y in range(0, img_h, k):\n",
        "    count_list.append(np.count_nonzero((line > y) & (y + k > line)))\n",
        "\n",
        "count_list = list(map(lambda x: count_list.index(x) * k + (k // 2), count_list))\n",
        "\n",
        "edge = count_list[np.abs(np.asarray(count_list) - (img_h / 2)).argmin()]"
      ]
    },
    {
      "cell_type": "code",
      "execution_count": 60,
      "metadata": {
        "id": "pWjXrm1K400B"
      },
      "outputs": [],
      "source": [
        "#色の量子化関数\n",
        "\n",
        "def color_quantization(img, k):\n",
        "    cluster = KMeans(n_clusters=k)\n",
        "    cluster.fit(X=img)\n",
        "    return cluster.cluster_centers_"
      ]
    },
    {
      "cell_type": "code",
      "execution_count": 61,
      "metadata": {
        "colab": {
          "base_uri": "https://localhost:8080/"
        },
        "collapsed": true,
        "id": "H_G5vAErUkC2",
        "outputId": "b4e6c357-6323-4f70-ed00-241753574353"
      },
      "outputs": [
        {
          "name": "stderr",
          "output_type": "stream",
          "text": [
            "/usr/local/lib/python3.10/dist-packages/sklearn/cluster/_kmeans.py:870: FutureWarning: The default value of `n_init` will change from 10 to 'auto' in 1.4. Set the value of `n_init` explicitly to suppress the warning\n",
            "  warnings.warn(\n",
            "/usr/local/lib/python3.10/dist-packages/sklearn/cluster/_kmeans.py:870: FutureWarning: The default value of `n_init` will change from 10 to 'auto' in 1.4. Set the value of `n_init` explicitly to suppress the warning\n",
            "  warnings.warn(\n",
            "/usr/local/lib/python3.10/dist-packages/sklearn/cluster/_kmeans.py:870: FutureWarning: The default value of `n_init` will change from 10 to 'auto' in 1.4. Set the value of `n_init` explicitly to suppress the warning\n",
            "  warnings.warn(\n",
            "/usr/local/lib/python3.10/dist-packages/sklearn/cluster/_kmeans.py:870: FutureWarning: The default value of `n_init` will change from 10 to 'auto' in 1.4. Set the value of `n_init` explicitly to suppress the warning\n",
            "  warnings.warn(\n",
            "/usr/local/lib/python3.10/dist-packages/sklearn/cluster/_kmeans.py:870: FutureWarning: The default value of `n_init` will change from 10 to 'auto' in 1.4. Set the value of `n_init` explicitly to suppress the warning\n",
            "  warnings.warn(\n",
            "/usr/local/lib/python3.10/dist-packages/sklearn/cluster/_kmeans.py:870: FutureWarning: The default value of `n_init` will change from 10 to 'auto' in 1.4. Set the value of `n_init` explicitly to suppress the warning\n",
            "  warnings.warn(\n"
          ]
        }
      ],
      "source": [
        "#判定\n",
        "\n",
        "kernel_size = 10\n",
        "\n",
        "output = []\n",
        "new_color_list = []\n",
        "\n",
        "for y in range(0, img_h - edge, kernel_size):\n",
        "    for x in range(img_w // 4, (img_w // 4) * 3, kernel_size):\n",
        "        upper_body_main_color = color_quantization((img_color_np[y:y + kernel_size, x:x + kernel_size]).reshape(-1, 3), 5)\n",
        "        lower_body_main_color = color_quantization((img_color_np[edge + y:edge + y + kernel_size, x:x + kernel_size]).reshape(-1, 3), 5)\n",
        "\n",
        "        for i in range(len(upper_body_main_color)):\n",
        "            input = np.concatenate([upper_body_main_color[i] / 255,lower_body_main_color[i] / 255])\n",
        "\n",
        "            predict = svm_model.predict([input])[0]\n",
        "            output.append(predict)\n",
        "\n",
        "            new_color = generator_model(torch.tensor((lower_body_main_color[i] / 255),  dtype=torch.float32).to(device))\n",
        "            new_color_list.append(np.array(new_color.tolist()) * 255)\n",
        "\n",
        "output = np.array(output)\n"
      ]
    },
    {
      "cell_type": "code",
      "execution_count": 64,
      "metadata": {
        "colab": {
          "base_uri": "https://localhost:8080/",
          "height": 1000
        },
        "id": "OvYxwPaN7NkS",
        "outputId": "ba9cd1fd-efd4-4cf6-b76f-57e672d8f458"
      },
      "outputs": [
        {
          "name": "stdout",
          "output_type": "stream",
          "text": [
            "この配色不適格（適格率：40.0%）です\n",
            "下半身に使われている色に最適な上半身の色は次のとおりです。\n"
          ]
        },
        {
          "name": "stderr",
          "output_type": "stream",
          "text": [
            "/usr/local/lib/python3.10/dist-packages/sklearn/cluster/_kmeans.py:870: FutureWarning: The default value of `n_init` will change from 10 to 'auto' in 1.4. Set the value of `n_init` explicitly to suppress the warning\n",
            "  warnings.warn(\n"
          ]
        },
        {
          "data": {
            "image/png": "[encoded data removed]",
            "text/plain": [
              "<PIL.Image.Image image mode=RGB size=150x150>"
            ]
          },
          "metadata": {},
          "output_type": "display_data"
        },
        {
          "name": "stdout",
          "output_type": "stream",
          "text": [
            "\n",
            "\n"
          ]
        },
        {
          "data": {
            "image/png": "[encoded data removed]",
            "text/plain": [
              "<PIL.Image.Image image mode=RGB size=150x150>"
            ]
          },
          "metadata": {},
          "output_type": "display_data"
        },
        {
          "name": "stdout",
          "output_type": "stream",
          "text": [
            "\n",
            "\n"
          ]
        },
        {
          "data": {
            "image/png": "[encoded data removed]",
            "text/plain": [
              "<PIL.Image.Image image mode=RGB size=150x150>"
            ]
          },
          "metadata": {},
          "output_type": "display_data"
        },
        {
          "name": "stdout",
          "output_type": "stream",
          "text": [
            "\n",
            "\n"
          ]
        },
        {
          "data": {
            "image/png": "[encoded data removed]",
            "text/plain": [
              "<PIL.Image.Image image mode=RGB size=150x150>"
            ]
          },
          "metadata": {},
          "output_type": "display_data"
        },
        {
          "name": "stdout",
          "output_type": "stream",
          "text": [
            "\n",
            "\n"
          ]
        },
        {
          "data": {
            "image/png": "[encoded data removed]",
            "text/plain": [
              "<PIL.Image.Image image mode=RGB size=150x150>"
            ]
          },
          "metadata": {},
          "output_type": "display_data"
        },
        {
          "name": "stdout",
          "output_type": "stream",
          "text": [
            "\n",
            "\n"
          ]
        }
      ],
      "source": [
        "#結果を表示\n",
        "\n",
        "ave = np.average(output)\n",
        "judge = (ave >= 0.5).astype(int)\n",
        "\n",
        "if judge == 1:\n",
        "    print(f'この配色は適格（適格率：{ave * 100}%）です')\n",
        "else:\n",
        "    print(f'この配色不適格（適格率：{ave * 100}%）です')\n",
        "\n",
        "\n",
        "print(\"下半身に使われている色に最適な上半身の色は次のとおりです。\")\n",
        "\n",
        "add_color = color_quantization(new_color_list, 5)\n",
        "\n",
        "for i, color in enumerate(add_color):\n",
        "    color_img = np.zeros((150, 150, 3))\n",
        "    color_img[0:150, 0:150] = color\n",
        "\n",
        "    display(Image.fromarray(color_img.astype(np.uint8)))\n",
        "    print(\"\\n\")\n"
      ]
    }
  ],
  "metadata": {
    "colab": {
      "provenance": []
    },
    "kernelspec": {
      "display_name": "Python 3",
      "name": "python3"
    },
    "language_info": {
      "name": "python"
    }
  },
  "nbformat": 4,
  "nbformat_minor": 0
}
