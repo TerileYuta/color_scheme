{
  "cells": [
    {
      "cell_type": "code",
      "execution_count": null,
      "metadata": {
        "id": "6sN4H-1-DmPF"
      },
      "outputs": [],
      "source": [
        "#インポート\n",
        "\n",
        "import csv\n",
        "import numpy as np\n",
        "\n",
        "from sklearn.model_selection import train_test_split\n"
      ]
    },
    {
      "cell_type": "code",
      "execution_count": null,
      "metadata": {
        "id": "WIsaelw8Iw0f"
      },
      "outputs": [],
      "source": [
        "#データの読み込み\n",
        "data = []\n",
        "\n",
        "filename = './data/ColorList.csv'\n",
        "with open(filename, encoding='utf8', newline='') as f:\n",
        "    csvreader = csv.reader(f)\n",
        "    for row in csvreader:\n",
        "        data.append(row)"
      ]
    },
    {
      "cell_type": "code",
      "execution_count": null,
      "metadata": {
        "id": "Vh_p5_K6JJBN"
      },
      "outputs": [],
      "source": [
        "#データ整形\n",
        "\n",
        "data.pop(0)\n",
        "data = [*map(lambda row: list(map(lambda x: int(x), row)), data)]\n",
        "\n",
        "data_x = np.array([*map(lambda x: x[:6], data)])\n",
        "data_y = np.array([*map(lambda x: x[6], data)])\n"
      ]
    },
    {
      "cell_type": "code",
      "execution_count": null,
      "metadata": {
        "id": "z5sPryfnfYRI"
      },
      "outputs": [],
      "source": [
        "#正規化\n",
        "\n",
        "data_x_scaled = data_x / 255"
      ]
    },
    {
      "cell_type": "code",
      "execution_count": null,
      "metadata": {
        "id": "Gg9D_AZVLI4a"
      },
      "outputs": [],
      "source": [
        "#データの分割\n",
        "\n",
        "X_train, X_test, y_train, y_test = train_test_split(data_x_scaled, data_y, test_size=0.2)"
      ]
    },
    {
      "cell_type": "code",
      "execution_count": null,
      "metadata": {
        "colab": {
          "base_uri": "https://localhost:8080/"
        },
        "id": "8-WFiGRI8aec",
        "outputId": "d25c6de7-d890-4a2b-c67e-0e70964ee036"
      },
      "outputs": [
        {
          "name": "stdout",
          "output_type": "stream",
          "text": [
            "0.9082969432314411\n"
          ]
        }
      ],
      "source": [
        "#SVM\n",
        "\n",
        "from sklearn import svm\n",
        "clf = svm.SVC()\n",
        "\n",
        "clf.fit(X_train, y_train)\n",
        "print(clf.score(X_test, y_test))\n"
      ]
    },
    {
      "cell_type": "code",
      "execution_count": null,
      "metadata": {
        "id": "poFrui-Em9tL"
      },
      "outputs": [],
      "source": [
        "#モデルの保存\n",
        "\n",
        "import pickle\n",
        "filename = 'model.sav'\n",
        "pickle.dump(clf, open(filename, 'wb'))"
      ]
    }
  ],
  "metadata": {
    "colab": {
      "provenance": []
    },
    "kernelspec": {
      "display_name": "Python 3",
      "name": "python3"
    },
    "language_info": {
      "name": "python"
    }
  },
  "nbformat": 4,
  "nbformat_minor": 0
}
